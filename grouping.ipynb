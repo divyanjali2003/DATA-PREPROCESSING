{
 "cells": [
  {
   "cell_type": "code",
   "execution_count": 5,
   "id": "5d870fbe-04cc-4b4f-a92c-27e8e1600f0e",
   "metadata": {},
   "outputs": [
    {
     "name": "stdout",
     "output_type": "stream",
     "text": [
      "category\n",
      "A    90\n",
      "B    60\n",
      "Name: value, dtype: int64\n"
     ]
    }
   ],
   "source": [
    "import pandas as pd\n",
    "data={'category':['A','B','A','B','A'],\n",
    "      'value':[10,20,30,40,50]}\n",
    "df=pd.DataFrame(data)\n",
    "grouped=df.groupby('category')['value'].sum()\n",
    "print(grouped)"
   ]
  },
  {
   "cell_type": "code",
   "execution_count": 7,
   "id": "f9a15c3e-391e-477a-9541-f226238fdbea",
   "metadata": {},
   "outputs": [
    {
     "name": "stdout",
     "output_type": "stream",
     "text": [
      "   A  B\n",
      "0  1  3\n",
      "1  2  4\n",
      "0  5  7\n",
      "1  6  8\n"
     ]
    }
   ],
   "source": [
    "import pandas as pd\n",
    "df1=pd.DataFrame({'A':[1,2],'B':[3,4]})\n",
    "df2=pd.DataFrame({'A':[5,6],'B':[7,8]})\n",
    "result=pd.concat([df1,df2],axis=0)\n",
    "print(result)"
   ]
  },
  {
   "cell_type": "code",
   "execution_count": 9,
   "id": "50824cdc-969d-4f11-809d-f8ff58b93f1f",
   "metadata": {},
   "outputs": [
    {
     "name": "stdout",
     "output_type": "stream",
     "text": [
      "   A  B  A  B\n",
      "0  1  3  5  7\n",
      "1  2  4  6  8\n"
     ]
    }
   ],
   "source": [
    "result=pd.concat([df1,df2],axis=1)\n",
    "print(result)"
   ]
  },
  {
   "cell_type": "code",
   "execution_count": 11,
   "id": "33851f8b-b7c3-49f6-a250-9b29f008f6aa",
   "metadata": {},
   "outputs": [
    {
     "name": "stdout",
     "output_type": "stream",
     "text": [
      "   ID     Name  Age\n",
      "0   2      Bob   24\n",
      "1   3  Charlie   25\n"
     ]
    }
   ],
   "source": [
    "import pandas as pd\n",
    "df3=pd.DataFrame({'ID':[1,2,3],'Name':['Alice','Bob','Charlie']})\n",
    "df4=pd.DataFrame({'ID':[2,3,4],'Age':[24,25,26]})\n",
    "merged=pd.merge(df3,df4,on='ID')\n",
    "print(merged)"
   ]
  },
  {
   "cell_type": "code",
   "execution_count": null,
   "id": "0937ec07-8192-4bcb-8f9c-e73fb3fa6ae2",
   "metadata": {},
   "outputs": [],
   "source": []
  }
 ],
 "metadata": {
  "kernelspec": {
   "display_name": "Python [conda env:base] *",
   "language": "python",
   "name": "conda-base-py"
  },
  "language_info": {
   "codemirror_mode": {
    "name": "ipython",
    "version": 3
   },
   "file_extension": ".py",
   "mimetype": "text/x-python",
   "name": "python",
   "nbconvert_exporter": "python",
   "pygments_lexer": "ipython3",
   "version": "3.12.7"
  }
 },
 "nbformat": 4,
 "nbformat_minor": 5
}
