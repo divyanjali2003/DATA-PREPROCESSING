{
 "cells": [
  {
   "cell_type": "code",
   "execution_count": 1,
   "id": "21764a59-9294-4f6c-b97a-c3b566477028",
   "metadata": {},
   "outputs": [
    {
     "data": {
      "text/html": [
       "<div>\n",
       "<style scoped>\n",
       "    .dataframe tbody tr th:only-of-type {\n",
       "        vertical-align: middle;\n",
       "    }\n",
       "\n",
       "    .dataframe tbody tr th {\n",
       "        vertical-align: top;\n",
       "    }\n",
       "\n",
       "    .dataframe thead th {\n",
       "        text-align: right;\n",
       "    }\n",
       "</style>\n",
       "<table border=\"1\" class=\"dataframe\">\n",
       "  <thead>\n",
       "    <tr style=\"text-align: right;\">\n",
       "      <th></th>\n",
       "      <th>ID</th>\n",
       "      <th>Segmentation</th>\n",
       "    </tr>\n",
       "  </thead>\n",
       "  <tbody>\n",
       "    <tr>\n",
       "      <th>0</th>\n",
       "      <td>458989</td>\n",
       "      <td>A</td>\n",
       "    </tr>\n",
       "    <tr>\n",
       "      <th>1</th>\n",
       "      <td>458994</td>\n",
       "      <td>A</td>\n",
       "    </tr>\n",
       "    <tr>\n",
       "      <th>2</th>\n",
       "      <td>458996</td>\n",
       "      <td>A</td>\n",
       "    </tr>\n",
       "    <tr>\n",
       "      <th>3</th>\n",
       "      <td>459000</td>\n",
       "      <td>A</td>\n",
       "    </tr>\n",
       "    <tr>\n",
       "      <th>4</th>\n",
       "      <td>459001</td>\n",
       "      <td>A</td>\n",
       "    </tr>\n",
       "    <tr>\n",
       "      <th>...</th>\n",
       "      <td>...</td>\n",
       "      <td>...</td>\n",
       "    </tr>\n",
       "    <tr>\n",
       "      <th>2622</th>\n",
       "      <td>467954</td>\n",
       "      <td>A</td>\n",
       "    </tr>\n",
       "    <tr>\n",
       "      <th>2623</th>\n",
       "      <td>467958</td>\n",
       "      <td>A</td>\n",
       "    </tr>\n",
       "    <tr>\n",
       "      <th>2624</th>\n",
       "      <td>467960</td>\n",
       "      <td>A</td>\n",
       "    </tr>\n",
       "    <tr>\n",
       "      <th>2625</th>\n",
       "      <td>467961</td>\n",
       "      <td>A</td>\n",
       "    </tr>\n",
       "    <tr>\n",
       "      <th>2626</th>\n",
       "      <td>467968</td>\n",
       "      <td>A</td>\n",
       "    </tr>\n",
       "  </tbody>\n",
       "</table>\n",
       "<p>2627 rows × 2 columns</p>\n",
       "</div>"
      ],
      "text/plain": [
       "          ID Segmentation\n",
       "0     458989            A\n",
       "1     458994            A\n",
       "2     458996            A\n",
       "3     459000            A\n",
       "4     459001            A\n",
       "...      ...          ...\n",
       "2622  467954            A\n",
       "2623  467958            A\n",
       "2624  467960            A\n",
       "2625  467961            A\n",
       "2626  467968            A\n",
       "\n",
       "[2627 rows x 2 columns]"
      ]
     },
     "execution_count": 1,
     "metadata": {},
     "output_type": "execute_result"
    }
   ],
   "source": [
    "import pandas as pd\n",
    "ds=pd.read_csv('sample_submission.csv')\n",
    "ds"
   ]
  },
  {
   "cell_type": "code",
   "execution_count": 2,
   "id": "18834407-4ae1-43c0-8a7c-cce5a403853d",
   "metadata": {},
   "outputs": [
    {
     "name": "stdout",
     "output_type": "stream",
     "text": [
      "       ID Segmentation\n",
      "0  458989            A\n",
      "1  458994            A\n",
      "2  458996            A\n",
      "3  459000            A\n",
      "4  459001            A\n",
      "5  459003            A\n",
      "6  459005            A\n",
      "7  459008            A\n",
      "8  459013            A\n",
      "9  459014            A\n"
     ]
    }
   ],
   "source": [
    "import pandas as pd\n",
    "ds=pd.read_csv('sample_submission.csv')\n",
    "print(ds.head(10))"
   ]
  },
  {
   "cell_type": "code",
   "execution_count": 3,
   "id": "c39c917a-fdd8-4b30-a2f3-37c5fc723e4a",
   "metadata": {},
   "outputs": [
    {
     "name": "stdout",
     "output_type": "stream",
     "text": [
      "          ID Segmentation\n",
      "2622  467954            A\n",
      "2623  467958            A\n",
      "2624  467960            A\n",
      "2625  467961            A\n",
      "2626  467968            A\n"
     ]
    }
   ],
   "source": [
    "print(ds.tail())"
   ]
  },
  {
   "cell_type": "code",
   "execution_count": 4,
   "id": "e9d79ed4-d979-4a5c-a311-1f4d7f17cd8e",
   "metadata": {},
   "outputs": [
    {
     "name": "stdout",
     "output_type": "stream",
     "text": [
      "<class 'pandas.core.frame.DataFrame'>\n",
      "RangeIndex: 2627 entries, 0 to 2626\n",
      "Data columns (total 2 columns):\n",
      " #   Column        Non-Null Count  Dtype \n",
      "---  ------        --------------  ----- \n",
      " 0   ID            2627 non-null   int64 \n",
      " 1   Segmentation  2627 non-null   object\n",
      "dtypes: int64(1), object(1)\n",
      "memory usage: 41.2+ KB\n",
      "None\n"
     ]
    }
   ],
   "source": [
    "print(ds.info())"
   ]
  },
  {
   "cell_type": "code",
   "execution_count": 5,
   "id": "1d0aa9c5-ab55-44be-a916-e8e7ba906002",
   "metadata": {},
   "outputs": [
    {
     "data": {
      "text/html": [
       "<div>\n",
       "<style scoped>\n",
       "    .dataframe tbody tr th:only-of-type {\n",
       "        vertical-align: middle;\n",
       "    }\n",
       "\n",
       "    .dataframe tbody tr th {\n",
       "        vertical-align: top;\n",
       "    }\n",
       "\n",
       "    .dataframe thead th {\n",
       "        text-align: right;\n",
       "    }\n",
       "</style>\n",
       "<table border=\"1\" class=\"dataframe\">\n",
       "  <thead>\n",
       "    <tr style=\"text-align: right;\">\n",
       "      <th></th>\n",
       "      <th>ID</th>\n",
       "    </tr>\n",
       "  </thead>\n",
       "  <tbody>\n",
       "    <tr>\n",
       "      <th>count</th>\n",
       "      <td>2627.000000</td>\n",
       "    </tr>\n",
       "    <tr>\n",
       "      <th>mean</th>\n",
       "      <td>463433.918919</td>\n",
       "    </tr>\n",
       "    <tr>\n",
       "      <th>std</th>\n",
       "      <td>2618.245698</td>\n",
       "    </tr>\n",
       "    <tr>\n",
       "      <th>min</th>\n",
       "      <td>458989.000000</td>\n",
       "    </tr>\n",
       "    <tr>\n",
       "      <th>25%</th>\n",
       "      <td>461162.500000</td>\n",
       "    </tr>\n",
       "    <tr>\n",
       "      <th>50%</th>\n",
       "      <td>463379.000000</td>\n",
       "    </tr>\n",
       "    <tr>\n",
       "      <th>75%</th>\n",
       "      <td>465696.000000</td>\n",
       "    </tr>\n",
       "    <tr>\n",
       "      <th>max</th>\n",
       "      <td>467968.000000</td>\n",
       "    </tr>\n",
       "  </tbody>\n",
       "</table>\n",
       "</div>"
      ],
      "text/plain": [
       "                  ID\n",
       "count    2627.000000\n",
       "mean   463433.918919\n",
       "std      2618.245698\n",
       "min    458989.000000\n",
       "25%    461162.500000\n",
       "50%    463379.000000\n",
       "75%    465696.000000\n",
       "max    467968.000000"
      ]
     },
     "execution_count": 5,
     "metadata": {},
     "output_type": "execute_result"
    }
   ],
   "source": [
    "ds.describe()"
   ]
  },
  {
   "cell_type": "code",
   "execution_count": 6,
   "id": "dc6ebda1-08f9-4dee-bd27-e60c7e8274d6",
   "metadata": {},
   "outputs": [
    {
     "data": {
      "text/plain": [
       "Index(['ID', 'Segmentation'], dtype='object')"
      ]
     },
     "execution_count": 6,
     "metadata": {},
     "output_type": "execute_result"
    }
   ],
   "source": [
    "ds.columns"
   ]
  },
  {
   "cell_type": "code",
   "execution_count": 7,
   "id": "c0150e19-d53e-4a32-9ac4-8f0f401e89ec",
   "metadata": {},
   "outputs": [
    {
     "data": {
      "text/plain": [
       "ID              0\n",
       "Segmentation    0\n",
       "dtype: int64"
      ]
     },
     "execution_count": 7,
     "metadata": {},
     "output_type": "execute_result"
    }
   ],
   "source": [
    "ds.isnull().sum()"
   ]
  },
  {
   "cell_type": "code",
   "execution_count": 8,
   "id": "6c4aab9a-3dda-42e4-800a-ba207076cfb7",
   "metadata": {},
   "outputs": [
    {
     "data": {
      "text/plain": [
       "array([458989, 458994, 458996, ..., 467960, 467961, 467968], dtype=int64)"
      ]
     },
     "execution_count": 8,
     "metadata": {},
     "output_type": "execute_result"
    }
   ],
   "source": [
    "ds['ID'].unique()"
   ]
  },
  {
   "cell_type": "code",
   "execution_count": 9,
   "id": "f6c9ab17-488c-45b0-b89c-6240c88553bb",
   "metadata": {},
   "outputs": [
    {
     "data": {
      "text/html": [
       "<div>\n",
       "<style scoped>\n",
       "    .dataframe tbody tr th:only-of-type {\n",
       "        vertical-align: middle;\n",
       "    }\n",
       "\n",
       "    .dataframe tbody tr th {\n",
       "        vertical-align: top;\n",
       "    }\n",
       "\n",
       "    .dataframe thead th {\n",
       "        text-align: right;\n",
       "    }\n",
       "</style>\n",
       "<table border=\"1\" class=\"dataframe\">\n",
       "  <thead>\n",
       "    <tr style=\"text-align: right;\">\n",
       "      <th></th>\n",
       "      <th>ID</th>\n",
       "      <th>Segmentation</th>\n",
       "    </tr>\n",
       "  </thead>\n",
       "  <tbody>\n",
       "    <tr>\n",
       "      <th>0</th>\n",
       "      <td>458989</td>\n",
       "      <td>A</td>\n",
       "    </tr>\n",
       "    <tr>\n",
       "      <th>1</th>\n",
       "      <td>458994</td>\n",
       "      <td>A</td>\n",
       "    </tr>\n",
       "    <tr>\n",
       "      <th>2</th>\n",
       "      <td>458996</td>\n",
       "      <td>A</td>\n",
       "    </tr>\n",
       "    <tr>\n",
       "      <th>3</th>\n",
       "      <td>459000</td>\n",
       "      <td>A</td>\n",
       "    </tr>\n",
       "    <tr>\n",
       "      <th>4</th>\n",
       "      <td>459001</td>\n",
       "      <td>A</td>\n",
       "    </tr>\n",
       "    <tr>\n",
       "      <th>...</th>\n",
       "      <td>...</td>\n",
       "      <td>...</td>\n",
       "    </tr>\n",
       "    <tr>\n",
       "      <th>2622</th>\n",
       "      <td>467954</td>\n",
       "      <td>A</td>\n",
       "    </tr>\n",
       "    <tr>\n",
       "      <th>2623</th>\n",
       "      <td>467958</td>\n",
       "      <td>A</td>\n",
       "    </tr>\n",
       "    <tr>\n",
       "      <th>2624</th>\n",
       "      <td>467960</td>\n",
       "      <td>A</td>\n",
       "    </tr>\n",
       "    <tr>\n",
       "      <th>2625</th>\n",
       "      <td>467961</td>\n",
       "      <td>A</td>\n",
       "    </tr>\n",
       "    <tr>\n",
       "      <th>2626</th>\n",
       "      <td>467968</td>\n",
       "      <td>A</td>\n",
       "    </tr>\n",
       "  </tbody>\n",
       "</table>\n",
       "<p>2627 rows × 2 columns</p>\n",
       "</div>"
      ],
      "text/plain": [
       "          ID Segmentation\n",
       "0     458989            A\n",
       "1     458994            A\n",
       "2     458996            A\n",
       "3     459000            A\n",
       "4     459001            A\n",
       "...      ...          ...\n",
       "2622  467954            A\n",
       "2623  467958            A\n",
       "2624  467960            A\n",
       "2625  467961            A\n",
       "2626  467968            A\n",
       "\n",
       "[2627 rows x 2 columns]"
      ]
     },
     "execution_count": 9,
     "metadata": {},
     "output_type": "execute_result"
    }
   ],
   "source": [
    "ds.dropna()"
   ]
  },
  {
   "cell_type": "code",
   "execution_count": 10,
   "id": "3369630d-fb52-461f-9a00-b4f081585fbe",
   "metadata": {},
   "outputs": [
    {
     "data": {
      "text/html": [
       "<div>\n",
       "<style scoped>\n",
       "    .dataframe tbody tr th:only-of-type {\n",
       "        vertical-align: middle;\n",
       "    }\n",
       "\n",
       "    .dataframe tbody tr th {\n",
       "        vertical-align: top;\n",
       "    }\n",
       "\n",
       "    .dataframe thead th {\n",
       "        text-align: right;\n",
       "    }\n",
       "</style>\n",
       "<table border=\"1\" class=\"dataframe\">\n",
       "  <thead>\n",
       "    <tr style=\"text-align: right;\">\n",
       "      <th></th>\n",
       "      <th>ID</th>\n",
       "      <th>Segmentation</th>\n",
       "    </tr>\n",
       "  </thead>\n",
       "  <tbody>\n",
       "    <tr>\n",
       "      <th>0</th>\n",
       "      <td>458989</td>\n",
       "      <td>A</td>\n",
       "    </tr>\n",
       "    <tr>\n",
       "      <th>1</th>\n",
       "      <td>458994</td>\n",
       "      <td>A</td>\n",
       "    </tr>\n",
       "    <tr>\n",
       "      <th>2</th>\n",
       "      <td>458996</td>\n",
       "      <td>A</td>\n",
       "    </tr>\n",
       "    <tr>\n",
       "      <th>3</th>\n",
       "      <td>459000</td>\n",
       "      <td>A</td>\n",
       "    </tr>\n",
       "    <tr>\n",
       "      <th>4</th>\n",
       "      <td>459001</td>\n",
       "      <td>A</td>\n",
       "    </tr>\n",
       "    <tr>\n",
       "      <th>...</th>\n",
       "      <td>...</td>\n",
       "      <td>...</td>\n",
       "    </tr>\n",
       "    <tr>\n",
       "      <th>2622</th>\n",
       "      <td>467954</td>\n",
       "      <td>A</td>\n",
       "    </tr>\n",
       "    <tr>\n",
       "      <th>2623</th>\n",
       "      <td>467958</td>\n",
       "      <td>A</td>\n",
       "    </tr>\n",
       "    <tr>\n",
       "      <th>2624</th>\n",
       "      <td>467960</td>\n",
       "      <td>A</td>\n",
       "    </tr>\n",
       "    <tr>\n",
       "      <th>2625</th>\n",
       "      <td>467961</td>\n",
       "      <td>A</td>\n",
       "    </tr>\n",
       "    <tr>\n",
       "      <th>2626</th>\n",
       "      <td>467968</td>\n",
       "      <td>A</td>\n",
       "    </tr>\n",
       "  </tbody>\n",
       "</table>\n",
       "<p>2627 rows × 2 columns</p>\n",
       "</div>"
      ],
      "text/plain": [
       "          ID Segmentation\n",
       "0     458989            A\n",
       "1     458994            A\n",
       "2     458996            A\n",
       "3     459000            A\n",
       "4     459001            A\n",
       "...      ...          ...\n",
       "2622  467954            A\n",
       "2623  467958            A\n",
       "2624  467960            A\n",
       "2625  467961            A\n",
       "2626  467968            A\n",
       "\n",
       "[2627 rows x 2 columns]"
      ]
     },
     "execution_count": 10,
     "metadata": {},
     "output_type": "execute_result"
    }
   ],
   "source": [
    "ds.dropna(axis=1)"
   ]
  },
  {
   "cell_type": "code",
   "execution_count": 11,
   "id": "4878790b-b5eb-4b17-b05b-44d67a7475cc",
   "metadata": {},
   "outputs": [
    {
     "data": {
      "text/html": [
       "<div>\n",
       "<style scoped>\n",
       "    .dataframe tbody tr th:only-of-type {\n",
       "        vertical-align: middle;\n",
       "    }\n",
       "\n",
       "    .dataframe tbody tr th {\n",
       "        vertical-align: top;\n",
       "    }\n",
       "\n",
       "    .dataframe thead th {\n",
       "        text-align: right;\n",
       "    }\n",
       "</style>\n",
       "<table border=\"1\" class=\"dataframe\">\n",
       "  <thead>\n",
       "    <tr style=\"text-align: right;\">\n",
       "      <th></th>\n",
       "      <th>ID</th>\n",
       "      <th>Segmentation</th>\n",
       "    </tr>\n",
       "  </thead>\n",
       "  <tbody>\n",
       "    <tr>\n",
       "      <th>0</th>\n",
       "      <td>458989</td>\n",
       "      <td>A</td>\n",
       "    </tr>\n",
       "    <tr>\n",
       "      <th>1</th>\n",
       "      <td>458994</td>\n",
       "      <td>A</td>\n",
       "    </tr>\n",
       "    <tr>\n",
       "      <th>2</th>\n",
       "      <td>458996</td>\n",
       "      <td>A</td>\n",
       "    </tr>\n",
       "    <tr>\n",
       "      <th>3</th>\n",
       "      <td>459000</td>\n",
       "      <td>A</td>\n",
       "    </tr>\n",
       "    <tr>\n",
       "      <th>4</th>\n",
       "      <td>459001</td>\n",
       "      <td>A</td>\n",
       "    </tr>\n",
       "    <tr>\n",
       "      <th>...</th>\n",
       "      <td>...</td>\n",
       "      <td>...</td>\n",
       "    </tr>\n",
       "    <tr>\n",
       "      <th>2622</th>\n",
       "      <td>467954</td>\n",
       "      <td>A</td>\n",
       "    </tr>\n",
       "    <tr>\n",
       "      <th>2623</th>\n",
       "      <td>467958</td>\n",
       "      <td>A</td>\n",
       "    </tr>\n",
       "    <tr>\n",
       "      <th>2624</th>\n",
       "      <td>467960</td>\n",
       "      <td>A</td>\n",
       "    </tr>\n",
       "    <tr>\n",
       "      <th>2625</th>\n",
       "      <td>467961</td>\n",
       "      <td>A</td>\n",
       "    </tr>\n",
       "    <tr>\n",
       "      <th>2626</th>\n",
       "      <td>467968</td>\n",
       "      <td>A</td>\n",
       "    </tr>\n",
       "  </tbody>\n",
       "</table>\n",
       "<p>2627 rows × 2 columns</p>\n",
       "</div>"
      ],
      "text/plain": [
       "          ID Segmentation\n",
       "0     458989            A\n",
       "1     458994            A\n",
       "2     458996            A\n",
       "3     459000            A\n",
       "4     459001            A\n",
       "...      ...          ...\n",
       "2622  467954            A\n",
       "2623  467958            A\n",
       "2624  467960            A\n",
       "2625  467961            A\n",
       "2626  467968            A\n",
       "\n",
       "[2627 rows x 2 columns]"
      ]
     },
     "execution_count": 11,
     "metadata": {},
     "output_type": "execute_result"
    }
   ],
   "source": [
    "ds"
   ]
  },
  {
   "cell_type": "code",
   "execution_count": 12,
   "id": "00272938-7fa2-4a38-bc7b-e7e483f4815f",
   "metadata": {},
   "outputs": [
    {
     "data": {
      "text/html": [
       "<div>\n",
       "<style scoped>\n",
       "    .dataframe tbody tr th:only-of-type {\n",
       "        vertical-align: middle;\n",
       "    }\n",
       "\n",
       "    .dataframe tbody tr th {\n",
       "        vertical-align: top;\n",
       "    }\n",
       "\n",
       "    .dataframe thead th {\n",
       "        text-align: right;\n",
       "    }\n",
       "</style>\n",
       "<table border=\"1\" class=\"dataframe\">\n",
       "  <thead>\n",
       "    <tr style=\"text-align: right;\">\n",
       "      <th></th>\n",
       "      <th>calories</th>\n",
       "      <th>duration</th>\n",
       "    </tr>\n",
       "  </thead>\n",
       "  <tbody>\n",
       "    <tr>\n",
       "      <th>0</th>\n",
       "      <td>100.0</td>\n",
       "      <td>500.0</td>\n",
       "    </tr>\n",
       "    <tr>\n",
       "      <th>1</th>\n",
       "      <td>200.0</td>\n",
       "      <td>600.0</td>\n",
       "    </tr>\n",
       "    <tr>\n",
       "      <th>2</th>\n",
       "      <td>300.0</td>\n",
       "      <td>700.0</td>\n",
       "    </tr>\n",
       "    <tr>\n",
       "      <th>3</th>\n",
       "      <td>NaN</td>\n",
       "      <td>NaN</td>\n",
       "    </tr>\n",
       "  </tbody>\n",
       "</table>\n",
       "</div>"
      ],
      "text/plain": [
       "   calories  duration\n",
       "0     100.0     500.0\n",
       "1     200.0     600.0\n",
       "2     300.0     700.0\n",
       "3       NaN       NaN"
      ]
     },
     "execution_count": 12,
     "metadata": {},
     "output_type": "execute_result"
    }
   ],
   "source": [
    "import pandas as pd\n",
    "import numpy as np\n",
    "data={\n",
    "    \"calories\":[100,200,300,np.nan],\n",
    "    \"duration\":[500,600,700,np.nan]}\n",
    "df=pd.DataFrame(data)\n",
    "df"
   ]
  },
  {
   "cell_type": "code",
   "execution_count": 13,
   "id": "73f50f80-2449-439d-9d81-fdd2378a8dbe",
   "metadata": {},
   "outputs": [
    {
     "name": "stderr",
     "output_type": "stream",
     "text": [
      "C:\\Users\\Diyanjali\\AppData\\Local\\Temp\\ipykernel_26340\\1110179836.py:1: FutureWarning: A value is trying to be set on a copy of a DataFrame or Series through chained assignment using an inplace method.\n",
      "The behavior will change in pandas 3.0. This inplace method will never work because the intermediate object on which we are setting values always behaves as a copy.\n",
      "\n",
      "For example, when doing 'df[col].method(value, inplace=True)', try using 'df.method({col: value}, inplace=True)' or df[col] = df[col].method(value) instead, to perform the operation inplace on the original object.\n",
      "\n",
      "\n",
      "  df['calories'].fillna(500,inplace=True)\n"
     ]
    }
   ],
   "source": [
    "df['calories'].fillna(500,inplace=True)"
   ]
  },
  {
   "cell_type": "code",
   "execution_count": 14,
   "id": "b927437a-5953-4910-8967-6185f9929ffe",
   "metadata": {},
   "outputs": [
    {
     "data": {
      "text/html": [
       "<div>\n",
       "<style scoped>\n",
       "    .dataframe tbody tr th:only-of-type {\n",
       "        vertical-align: middle;\n",
       "    }\n",
       "\n",
       "    .dataframe tbody tr th {\n",
       "        vertical-align: top;\n",
       "    }\n",
       "\n",
       "    .dataframe thead th {\n",
       "        text-align: right;\n",
       "    }\n",
       "</style>\n",
       "<table border=\"1\" class=\"dataframe\">\n",
       "  <thead>\n",
       "    <tr style=\"text-align: right;\">\n",
       "      <th></th>\n",
       "      <th>calories</th>\n",
       "      <th>duration</th>\n",
       "    </tr>\n",
       "  </thead>\n",
       "  <tbody>\n",
       "    <tr>\n",
       "      <th>0</th>\n",
       "      <td>100.0</td>\n",
       "      <td>500.0</td>\n",
       "    </tr>\n",
       "    <tr>\n",
       "      <th>1</th>\n",
       "      <td>200.0</td>\n",
       "      <td>600.0</td>\n",
       "    </tr>\n",
       "    <tr>\n",
       "      <th>2</th>\n",
       "      <td>300.0</td>\n",
       "      <td>700.0</td>\n",
       "    </tr>\n",
       "    <tr>\n",
       "      <th>3</th>\n",
       "      <td>500.0</td>\n",
       "      <td>NaN</td>\n",
       "    </tr>\n",
       "  </tbody>\n",
       "</table>\n",
       "</div>"
      ],
      "text/plain": [
       "   calories  duration\n",
       "0     100.0     500.0\n",
       "1     200.0     600.0\n",
       "2     300.0     700.0\n",
       "3     500.0       NaN"
      ]
     },
     "execution_count": 14,
     "metadata": {},
     "output_type": "execute_result"
    }
   ],
   "source": [
    "df"
   ]
  },
  {
   "cell_type": "code",
   "execution_count": 15,
   "id": "afc8b0b7-a3a7-4a29-8dff-b7369b8e55a4",
   "metadata": {},
   "outputs": [
    {
     "name": "stderr",
     "output_type": "stream",
     "text": [
      "C:\\Users\\Diyanjali\\AppData\\Local\\Temp\\ipykernel_26340\\561091523.py:1: FutureWarning: A value is trying to be set on a copy of a DataFrame or Series through chained assignment using an inplace method.\n",
      "The behavior will change in pandas 3.0. This inplace method will never work because the intermediate object on which we are setting values always behaves as a copy.\n",
      "\n",
      "For example, when doing 'df[col].method(value, inplace=True)', try using 'df.method({col: value}, inplace=True)' or df[col] = df[col].method(value) instead, to perform the operation inplace on the original object.\n",
      "\n",
      "\n",
      "  df['calories'].fillna(df['calories'].mean(),inplace=True)\n"
     ]
    }
   ],
   "source": [
    "df['calories'].fillna(df['calories'].mean(),inplace=True)"
   ]
  },
  {
   "cell_type": "code",
   "execution_count": 16,
   "id": "5a6d181f-f118-4b53-9970-2533d465c6c0",
   "metadata": {},
   "outputs": [
    {
     "data": {
      "text/html": [
       "<div>\n",
       "<style scoped>\n",
       "    .dataframe tbody tr th:only-of-type {\n",
       "        vertical-align: middle;\n",
       "    }\n",
       "\n",
       "    .dataframe tbody tr th {\n",
       "        vertical-align: top;\n",
       "    }\n",
       "\n",
       "    .dataframe thead th {\n",
       "        text-align: right;\n",
       "    }\n",
       "</style>\n",
       "<table border=\"1\" class=\"dataframe\">\n",
       "  <thead>\n",
       "    <tr style=\"text-align: right;\">\n",
       "      <th></th>\n",
       "      <th>calories</th>\n",
       "      <th>duration</th>\n",
       "    </tr>\n",
       "  </thead>\n",
       "  <tbody>\n",
       "    <tr>\n",
       "      <th>0</th>\n",
       "      <td>100.0</td>\n",
       "      <td>500.0</td>\n",
       "    </tr>\n",
       "    <tr>\n",
       "      <th>1</th>\n",
       "      <td>200.0</td>\n",
       "      <td>600.0</td>\n",
       "    </tr>\n",
       "    <tr>\n",
       "      <th>2</th>\n",
       "      <td>300.0</td>\n",
       "      <td>700.0</td>\n",
       "    </tr>\n",
       "    <tr>\n",
       "      <th>3</th>\n",
       "      <td>500.0</td>\n",
       "      <td>NaN</td>\n",
       "    </tr>\n",
       "  </tbody>\n",
       "</table>\n",
       "</div>"
      ],
      "text/plain": [
       "   calories  duration\n",
       "0     100.0     500.0\n",
       "1     200.0     600.0\n",
       "2     300.0     700.0\n",
       "3     500.0       NaN"
      ]
     },
     "execution_count": 16,
     "metadata": {},
     "output_type": "execute_result"
    }
   ],
   "source": [
    "df"
   ]
  },
  {
   "cell_type": "code",
   "execution_count": 17,
   "id": "8c322396-8994-484c-930a-64235525ee54",
   "metadata": {},
   "outputs": [
    {
     "data": {
      "text/html": [
       "<div>\n",
       "<style scoped>\n",
       "    .dataframe tbody tr th:only-of-type {\n",
       "        vertical-align: middle;\n",
       "    }\n",
       "\n",
       "    .dataframe tbody tr th {\n",
       "        vertical-align: top;\n",
       "    }\n",
       "\n",
       "    .dataframe thead th {\n",
       "        text-align: right;\n",
       "    }\n",
       "</style>\n",
       "<table border=\"1\" class=\"dataframe\">\n",
       "  <thead>\n",
       "    <tr style=\"text-align: right;\">\n",
       "      <th></th>\n",
       "      <th>calories</th>\n",
       "      <th>duration</th>\n",
       "    </tr>\n",
       "  </thead>\n",
       "  <tbody>\n",
       "    <tr>\n",
       "      <th>0</th>\n",
       "      <td>100.0</td>\n",
       "      <td>500.0</td>\n",
       "    </tr>\n",
       "    <tr>\n",
       "      <th>1</th>\n",
       "      <td>200.0</td>\n",
       "      <td>600.0</td>\n",
       "    </tr>\n",
       "    <tr>\n",
       "      <th>2</th>\n",
       "      <td>300.0</td>\n",
       "      <td>700.0</td>\n",
       "    </tr>\n",
       "    <tr>\n",
       "      <th>3</th>\n",
       "      <td>500.0</td>\n",
       "      <td>NaN</td>\n",
       "    </tr>\n",
       "  </tbody>\n",
       "</table>\n",
       "</div>"
      ],
      "text/plain": [
       "   calories  duration\n",
       "0     100.0     500.0\n",
       "1     200.0     600.0\n",
       "2     300.0     700.0\n",
       "3     500.0       NaN"
      ]
     },
     "execution_count": 17,
     "metadata": {},
     "output_type": "execute_result"
    }
   ],
   "source": [
    "df.drop_duplicates()"
   ]
  },
  {
   "cell_type": "code",
   "execution_count": 18,
   "id": "401138bb-eb17-4577-9e91-1bfb63a30231",
   "metadata": {},
   "outputs": [
    {
     "data": {
      "text/html": [
       "<div>\n",
       "<style scoped>\n",
       "    .dataframe tbody tr th:only-of-type {\n",
       "        vertical-align: middle;\n",
       "    }\n",
       "\n",
       "    .dataframe tbody tr th {\n",
       "        vertical-align: top;\n",
       "    }\n",
       "\n",
       "    .dataframe thead th {\n",
       "        text-align: right;\n",
       "    }\n",
       "</style>\n",
       "<table border=\"1\" class=\"dataframe\">\n",
       "  <thead>\n",
       "    <tr style=\"text-align: right;\">\n",
       "      <th></th>\n",
       "      <th>calories</th>\n",
       "      <th>duration</th>\n",
       "    </tr>\n",
       "  </thead>\n",
       "  <tbody>\n",
       "    <tr>\n",
       "      <th>0</th>\n",
       "      <td>100.0</td>\n",
       "      <td>500.0</td>\n",
       "    </tr>\n",
       "    <tr>\n",
       "      <th>1</th>\n",
       "      <td>200.0</td>\n",
       "      <td>600.0</td>\n",
       "    </tr>\n",
       "    <tr>\n",
       "      <th>2</th>\n",
       "      <td>300.0</td>\n",
       "      <td>700.0</td>\n",
       "    </tr>\n",
       "    <tr>\n",
       "      <th>3</th>\n",
       "      <td>500.0</td>\n",
       "      <td>NaN</td>\n",
       "    </tr>\n",
       "  </tbody>\n",
       "</table>\n",
       "</div>"
      ],
      "text/plain": [
       "   calories  duration\n",
       "0     100.0     500.0\n",
       "1     200.0     600.0\n",
       "2     300.0     700.0\n",
       "3     500.0       NaN"
      ]
     },
     "execution_count": 18,
     "metadata": {},
     "output_type": "execute_result"
    }
   ],
   "source": [
    "df"
   ]
  },
  {
   "cell_type": "code",
   "execution_count": 19,
   "id": "7cace285-5bc1-4d35-8cbc-4d775178508b",
   "metadata": {},
   "outputs": [],
   "source": [
    "ds.rename(columns={'ID':'Name'},inplace=True)"
   ]
  },
  {
   "cell_type": "code",
   "execution_count": 20,
   "id": "d4615588-3b80-475c-8a2f-c39082f29c5d",
   "metadata": {},
   "outputs": [
    {
     "data": {
      "text/html": [
       "<div>\n",
       "<style scoped>\n",
       "    .dataframe tbody tr th:only-of-type {\n",
       "        vertical-align: middle;\n",
       "    }\n",
       "\n",
       "    .dataframe tbody tr th {\n",
       "        vertical-align: top;\n",
       "    }\n",
       "\n",
       "    .dataframe thead th {\n",
       "        text-align: right;\n",
       "    }\n",
       "</style>\n",
       "<table border=\"1\" class=\"dataframe\">\n",
       "  <thead>\n",
       "    <tr style=\"text-align: right;\">\n",
       "      <th></th>\n",
       "      <th>Name</th>\n",
       "      <th>Segmentation</th>\n",
       "    </tr>\n",
       "  </thead>\n",
       "  <tbody>\n",
       "    <tr>\n",
       "      <th>0</th>\n",
       "      <td>458989</td>\n",
       "      <td>A</td>\n",
       "    </tr>\n",
       "    <tr>\n",
       "      <th>1</th>\n",
       "      <td>458994</td>\n",
       "      <td>A</td>\n",
       "    </tr>\n",
       "    <tr>\n",
       "      <th>2</th>\n",
       "      <td>458996</td>\n",
       "      <td>A</td>\n",
       "    </tr>\n",
       "    <tr>\n",
       "      <th>3</th>\n",
       "      <td>459000</td>\n",
       "      <td>A</td>\n",
       "    </tr>\n",
       "    <tr>\n",
       "      <th>4</th>\n",
       "      <td>459001</td>\n",
       "      <td>A</td>\n",
       "    </tr>\n",
       "    <tr>\n",
       "      <th>...</th>\n",
       "      <td>...</td>\n",
       "      <td>...</td>\n",
       "    </tr>\n",
       "    <tr>\n",
       "      <th>2622</th>\n",
       "      <td>467954</td>\n",
       "      <td>A</td>\n",
       "    </tr>\n",
       "    <tr>\n",
       "      <th>2623</th>\n",
       "      <td>467958</td>\n",
       "      <td>A</td>\n",
       "    </tr>\n",
       "    <tr>\n",
       "      <th>2624</th>\n",
       "      <td>467960</td>\n",
       "      <td>A</td>\n",
       "    </tr>\n",
       "    <tr>\n",
       "      <th>2625</th>\n",
       "      <td>467961</td>\n",
       "      <td>A</td>\n",
       "    </tr>\n",
       "    <tr>\n",
       "      <th>2626</th>\n",
       "      <td>467968</td>\n",
       "      <td>A</td>\n",
       "    </tr>\n",
       "  </tbody>\n",
       "</table>\n",
       "<p>2627 rows × 2 columns</p>\n",
       "</div>"
      ],
      "text/plain": [
       "        Name Segmentation\n",
       "0     458989            A\n",
       "1     458994            A\n",
       "2     458996            A\n",
       "3     459000            A\n",
       "4     459001            A\n",
       "...      ...          ...\n",
       "2622  467954            A\n",
       "2623  467958            A\n",
       "2624  467960            A\n",
       "2625  467961            A\n",
       "2626  467968            A\n",
       "\n",
       "[2627 rows x 2 columns]"
      ]
     },
     "execution_count": 20,
     "metadata": {},
     "output_type": "execute_result"
    }
   ],
   "source": [
    "ds"
   ]
  },
  {
   "cell_type": "code",
   "execution_count": 21,
   "id": "90b1e3e7-805b-4df3-ab7b-1cb3c6857160",
   "metadata": {},
   "outputs": [],
   "source": [
    "filtered_ds=ds[ds['Name']>458996]"
   ]
  },
  {
   "cell_type": "code",
   "execution_count": 22,
   "id": "771624b1-2b48-4122-811e-44ed47ca9649",
   "metadata": {},
   "outputs": [],
   "source": [
    "ds=ds[['Name','Segmentation']]"
   ]
  },
  {
   "cell_type": "code",
   "execution_count": 23,
   "id": "ec88de87-0fd0-4a37-9bc5-51d3a1f72533",
   "metadata": {},
   "outputs": [
    {
     "data": {
      "text/html": [
       "<div>\n",
       "<style scoped>\n",
       "    .dataframe tbody tr th:only-of-type {\n",
       "        vertical-align: middle;\n",
       "    }\n",
       "\n",
       "    .dataframe tbody tr th {\n",
       "        vertical-align: top;\n",
       "    }\n",
       "\n",
       "    .dataframe thead th {\n",
       "        text-align: right;\n",
       "    }\n",
       "</style>\n",
       "<table border=\"1\" class=\"dataframe\">\n",
       "  <thead>\n",
       "    <tr style=\"text-align: right;\">\n",
       "      <th></th>\n",
       "      <th>Name</th>\n",
       "      <th>Segmentation</th>\n",
       "    </tr>\n",
       "  </thead>\n",
       "  <tbody>\n",
       "    <tr>\n",
       "      <th>0</th>\n",
       "      <td>458989</td>\n",
       "      <td>A</td>\n",
       "    </tr>\n",
       "    <tr>\n",
       "      <th>1</th>\n",
       "      <td>458994</td>\n",
       "      <td>A</td>\n",
       "    </tr>\n",
       "    <tr>\n",
       "      <th>2</th>\n",
       "      <td>458996</td>\n",
       "      <td>A</td>\n",
       "    </tr>\n",
       "    <tr>\n",
       "      <th>3</th>\n",
       "      <td>459000</td>\n",
       "      <td>A</td>\n",
       "    </tr>\n",
       "    <tr>\n",
       "      <th>4</th>\n",
       "      <td>459001</td>\n",
       "      <td>A</td>\n",
       "    </tr>\n",
       "    <tr>\n",
       "      <th>...</th>\n",
       "      <td>...</td>\n",
       "      <td>...</td>\n",
       "    </tr>\n",
       "    <tr>\n",
       "      <th>2622</th>\n",
       "      <td>467954</td>\n",
       "      <td>A</td>\n",
       "    </tr>\n",
       "    <tr>\n",
       "      <th>2623</th>\n",
       "      <td>467958</td>\n",
       "      <td>A</td>\n",
       "    </tr>\n",
       "    <tr>\n",
       "      <th>2624</th>\n",
       "      <td>467960</td>\n",
       "      <td>A</td>\n",
       "    </tr>\n",
       "    <tr>\n",
       "      <th>2625</th>\n",
       "      <td>467961</td>\n",
       "      <td>A</td>\n",
       "    </tr>\n",
       "    <tr>\n",
       "      <th>2626</th>\n",
       "      <td>467968</td>\n",
       "      <td>A</td>\n",
       "    </tr>\n",
       "  </tbody>\n",
       "</table>\n",
       "<p>2627 rows × 2 columns</p>\n",
       "</div>"
      ],
      "text/plain": [
       "        Name Segmentation\n",
       "0     458989            A\n",
       "1     458994            A\n",
       "2     458996            A\n",
       "3     459000            A\n",
       "4     459001            A\n",
       "...      ...          ...\n",
       "2622  467954            A\n",
       "2623  467958            A\n",
       "2624  467960            A\n",
       "2625  467961            A\n",
       "2626  467968            A\n",
       "\n",
       "[2627 rows x 2 columns]"
      ]
     },
     "execution_count": 23,
     "metadata": {},
     "output_type": "execute_result"
    }
   ],
   "source": [
    "ds"
   ]
  },
  {
   "cell_type": "code",
   "execution_count": 24,
   "id": "578e0f94-9de3-4f32-b4a9-a0f0f31f6bbb",
   "metadata": {},
   "outputs": [],
   "source": [
    "df['sum']=df['calories']+df['duration']"
   ]
  },
  {
   "cell_type": "code",
   "execution_count": 25,
   "id": "30a72e76-a6a5-48b9-b260-2dbbc0c384a1",
   "metadata": {},
   "outputs": [
    {
     "data": {
      "text/html": [
       "<div>\n",
       "<style scoped>\n",
       "    .dataframe tbody tr th:only-of-type {\n",
       "        vertical-align: middle;\n",
       "    }\n",
       "\n",
       "    .dataframe tbody tr th {\n",
       "        vertical-align: top;\n",
       "    }\n",
       "\n",
       "    .dataframe thead th {\n",
       "        text-align: right;\n",
       "    }\n",
       "</style>\n",
       "<table border=\"1\" class=\"dataframe\">\n",
       "  <thead>\n",
       "    <tr style=\"text-align: right;\">\n",
       "      <th></th>\n",
       "      <th>calories</th>\n",
       "      <th>duration</th>\n",
       "      <th>sum</th>\n",
       "    </tr>\n",
       "  </thead>\n",
       "  <tbody>\n",
       "    <tr>\n",
       "      <th>0</th>\n",
       "      <td>100.0</td>\n",
       "      <td>500.0</td>\n",
       "      <td>600.0</td>\n",
       "    </tr>\n",
       "    <tr>\n",
       "      <th>1</th>\n",
       "      <td>200.0</td>\n",
       "      <td>600.0</td>\n",
       "      <td>800.0</td>\n",
       "    </tr>\n",
       "    <tr>\n",
       "      <th>2</th>\n",
       "      <td>300.0</td>\n",
       "      <td>700.0</td>\n",
       "      <td>1000.0</td>\n",
       "    </tr>\n",
       "    <tr>\n",
       "      <th>3</th>\n",
       "      <td>500.0</td>\n",
       "      <td>NaN</td>\n",
       "      <td>NaN</td>\n",
       "    </tr>\n",
       "  </tbody>\n",
       "</table>\n",
       "</div>"
      ],
      "text/plain": [
       "   calories  duration     sum\n",
       "0     100.0     500.0   600.0\n",
       "1     200.0     600.0   800.0\n",
       "2     300.0     700.0  1000.0\n",
       "3     500.0       NaN     NaN"
      ]
     },
     "execution_count": 25,
     "metadata": {},
     "output_type": "execute_result"
    }
   ],
   "source": [
    "df"
   ]
  },
  {
   "cell_type": "code",
   "execution_count": 26,
   "id": "a00556e7-f4db-4da1-9199-82aa934b155c",
   "metadata": {},
   "outputs": [],
   "source": [
    "df.to_csv(\"data.csv\", index=False)"
   ]
  },
  {
   "cell_type": "code",
   "execution_count": 27,
   "id": "e014d35d-1b6f-48b9-8083-b085a214cbb7",
   "metadata": {},
   "outputs": [
    {
     "data": {
      "text/html": [
       "<div>\n",
       "<style scoped>\n",
       "    .dataframe tbody tr th:only-of-type {\n",
       "        vertical-align: middle;\n",
       "    }\n",
       "\n",
       "    .dataframe tbody tr th {\n",
       "        vertical-align: top;\n",
       "    }\n",
       "\n",
       "    .dataframe thead th {\n",
       "        text-align: right;\n",
       "    }\n",
       "</style>\n",
       "<table border=\"1\" class=\"dataframe\">\n",
       "  <thead>\n",
       "    <tr style=\"text-align: right;\">\n",
       "      <th></th>\n",
       "      <th>calories</th>\n",
       "      <th>duration</th>\n",
       "      <th>sum</th>\n",
       "    </tr>\n",
       "  </thead>\n",
       "  <tbody>\n",
       "    <tr>\n",
       "      <th>0</th>\n",
       "      <td>100.0</td>\n",
       "      <td>500.0</td>\n",
       "      <td>600.0</td>\n",
       "    </tr>\n",
       "    <tr>\n",
       "      <th>1</th>\n",
       "      <td>200.0</td>\n",
       "      <td>600.0</td>\n",
       "      <td>800.0</td>\n",
       "    </tr>\n",
       "    <tr>\n",
       "      <th>2</th>\n",
       "      <td>300.0</td>\n",
       "      <td>700.0</td>\n",
       "      <td>1000.0</td>\n",
       "    </tr>\n",
       "    <tr>\n",
       "      <th>3</th>\n",
       "      <td>500.0</td>\n",
       "      <td>NaN</td>\n",
       "      <td>NaN</td>\n",
       "    </tr>\n",
       "  </tbody>\n",
       "</table>\n",
       "</div>"
      ],
      "text/plain": [
       "   calories  duration     sum\n",
       "0     100.0     500.0   600.0\n",
       "1     200.0     600.0   800.0\n",
       "2     300.0     700.0  1000.0\n",
       "3     500.0       NaN     NaN"
      ]
     },
     "execution_count": 27,
     "metadata": {},
     "output_type": "execute_result"
    }
   ],
   "source": [
    "df"
   ]
  },
  {
   "cell_type": "code",
   "execution_count": 28,
   "id": "1c97943c-5a25-410a-aa47-1ea45f22cc50",
   "metadata": {},
   "outputs": [
    {
     "name": "stdout",
     "output_type": "stream",
     "text": [
      "product\n",
      "dairy milk    600\n",
      "ice cream     500\n",
      "kit kat       100\n",
      "kiwi          400\n",
      "Name: price, dtype: int64\n"
     ]
    }
   ],
   "source": [
    "import pandas as pd\n",
    "data={'product':['kiwi','ice cream','dairy milk','kit kat'],\n",
    "      'price':[400,500,600,100]}\n",
    "df1=pd.DataFrame(data)\n",
    "calculate=df1.groupby('product')['price'].sum()\n",
    "print(calculate)"
   ]
  },
  {
   "cell_type": "code",
   "execution_count": 29,
   "id": "ef567f09-e274-49bd-9279-e52a2241f962",
   "metadata": {},
   "outputs": [
    {
     "name": "stdout",
     "output_type": "stream",
     "text": [
      "    A   B\n",
      "0  10  30\n",
      "1  20  40\n",
      "0  50  70\n",
      "1  60  80\n"
     ]
    }
   ],
   "source": [
    "import pandas as pd\n",
    "df2 = pd.DataFrame({'A':[10,20],'B':[30, 40]})\n",
    "df3 = pd.DataFrame({'A':[50,60],'B':[70, 80]})\n",
    "concatenation=pd.concat([df2,df3],axis=0)\n",
    "print(concatenation)"
   ]
  },
  {
   "cell_type": "code",
   "execution_count": 30,
   "id": "238b1dde-9a50-4083-972a-6eb01e531d01",
   "metadata": {},
   "outputs": [
    {
     "name": "stdout",
     "output_type": "stream",
     "text": [
      "     A    B    A    B\n",
      "0  100  300  500  700\n",
      "1  200  400  600  800\n"
     ]
    }
   ],
   "source": [
    "import pandas as pd\n",
    "df2 = pd.DataFrame({'A':[100,200],'B':[300, 400]})\n",
    "df3 = pd.DataFrame({'A':[500,600],'B':[700, 800]})\n",
    "calculate=pd.concat([df2,df3],axis=1)\n",
    "print(calculate)"
   ]
  },
  {
   "cell_type": "code",
   "execution_count": 31,
   "id": "cb5662b6-c0ac-4295-b1db-edf4f8efc4e1",
   "metadata": {},
   "outputs": [
    {
     "name": "stdout",
     "output_type": "stream",
     "text": [
      "    ID   Name  Age\n",
      "0  200   Jiji   22\n",
      "1  300  Anila   25\n"
     ]
    }
   ],
   "source": [
    "import pandas as pd\n",
    "df4=pd.DataFrame({'ID':[100, 200, 300],'Name':['Divya','Jiji','Anila']})\n",
    "df5=pd.DataFrame({'ID':[200, 300, 600],'Age':[22,25,28]})\n",
    "problem=pd.merge(df4,df5,on='ID')\n",
    "print(problem)"
   ]
  },
  {
   "cell_type": "code",
   "execution_count": 32,
   "id": "c2e23008-b5ad-4d2e-b18d-29ec53e9bb29",
   "metadata": {},
   "outputs": [
    {
     "name": "stdout",
     "output_type": "stream",
     "text": [
      "    A    B\n",
      "0  40  100\n",
      "1  60  120\n",
      "2  80  140\n"
     ]
    }
   ],
   "source": [
    "import pandas as pd\n",
    "df6=pd.DataFrame({'A':[10,20,30],'B':[40,50,60]})\n",
    "def add_constant(df,constant):\n",
    "    return df+constant\n",
    "concat=df6.pipe(add_constant,10).pipe(lambda x:x*2)\n",
    "print(concat)"
   ]
  },
  {
   "cell_type": "code",
   "execution_count": 33,
   "id": "69d83384-59c1-48fe-86e5-9fa21335b522",
   "metadata": {},
   "outputs": [
    {
     "name": "stdout",
     "output_type": "stream",
     "text": [
      "A     60\n",
      "B    150\n",
      "dtype: int64\n"
     ]
    }
   ],
   "source": [
    "import pandas as pd\n",
    "df7=pd.DataFrame({'A':[10,20,30],'B':[40,50,60]})\n",
    "column=df7.apply(lambda x:x.sum(),axis=0)\n",
    "rows=df7.apply(lambda x:x.sum(),axis=1)\n",
    "print(column)"
   ]
  },
  {
   "cell_type": "code",
   "execution_count": 34,
   "id": "6f05f940-cde9-4e93-929b-058811427f83",
   "metadata": {},
   "outputs": [
    {
     "name": "stdout",
     "output_type": "stream",
     "text": [
      "0    50\n",
      "1    70\n",
      "2    90\n",
      "dtype: int64\n"
     ]
    }
   ],
   "source": [
    "rows=df7.apply(lambda x:x.sum(),axis=1)\n",
    "print(rows)"
   ]
  },
  {
   "cell_type": "code",
   "execution_count": 35,
   "id": "7dc2c01a-8693-4688-b2c8-f6cdbd488bb9",
   "metadata": {},
   "outputs": [
    {
     "name": "stdout",
     "output_type": "stream",
     "text": [
      "      A     B\n",
      "0  1000  4000\n",
      "1  2000  5000\n",
      "2  3000  6000\n"
     ]
    },
    {
     "name": "stderr",
     "output_type": "stream",
     "text": [
      "C:\\Users\\Diyanjali\\AppData\\Local\\Temp\\ipykernel_26340\\2580338230.py:3: FutureWarning: DataFrame.applymap has been deprecated. Use DataFrame.map instead.\n",
      "  condition=df8.applymap(lambda x:x*10)\n"
     ]
    }
   ],
   "source": [
    "import pandas as pd\n",
    "df8=pd.DataFrame({'A':[100,200,300],'B':[400,500,600]})\n",
    "condition=df8.applymap(lambda x:x*10)\n",
    "print(condition)"
   ]
  },
  {
   "cell_type": "code",
   "execution_count": 36,
   "id": "7a9f30a7-79b3-44ca-9d78-203b41de883e",
   "metadata": {},
   "outputs": [],
   "source": [
    "import pandas as pd\n",
    "data={\n",
    "    'Time':[1,2,3,4,5],\n",
    "    'Performance':[90,85,80,78,76]\n",
    "}"
   ]
  },
  {
   "cell_type": "code",
   "execution_count": 37,
   "id": "02b95090-29b7-45ca-bd14-40fca2bc9bf9",
   "metadata": {},
   "outputs": [
    {
     "data": {
      "text/plain": [
       "{'Time': [1, 2, 3, 4, 5], 'Performance': [90, 85, 80, 78, 76]}"
      ]
     },
     "execution_count": 37,
     "metadata": {},
     "output_type": "execute_result"
    }
   ],
   "source": [
    "data"
   ]
  },
  {
   "cell_type": "code",
   "execution_count": 38,
   "id": "f43dfb58-4762-411b-a17a-cc30bd1cb6af",
   "metadata": {},
   "outputs": [
    {
     "name": "stdout",
     "output_type": "stream",
     "text": [
      "Dataset 'machine_test.csv' has been created.\n"
     ]
    }
   ],
   "source": [
    "df=pd.DataFrame(data)\n",
    "df.to_csv('machine_test.csv', index=False)\n",
    "print(\"Dataset 'machine_test.csv' has been created.\")"
   ]
  },
  {
   "cell_type": "code",
   "execution_count": 61,
   "id": "3acf981b-831d-4ab6-aef4-372c7b959a16",
   "metadata": {},
   "outputs": [
    {
     "data": {
      "image/png": "[encoded data removed]",
      "text/plain": [
       "<Figure size 800x500 with 1 Axes>"
      ]
     },
     "metadata": {},
     "output_type": "display_data"
    }
   ],
   "source": [
    "import pandas as pd\n",
    "import matplotlib.pyplot as plt\n",
    "data=pd.read_csv('machine_test.csv')\n",
    "time=data['Time']\n",
    "performance=data['Performance']\n",
    "plt.figure(figsize=(8,5))\n",
    "plt.plot(time,performance,marker='o',linestyle='-',color='blue',label='Performance')\n",
    "plt.title('Machine Test Performance Over Time')\n",
    "plt.xlabel('Time (hours)')\n",
    "plt.ylabel('Performance (%)')\n",
    "plt.legend()\n",
    "plt.grid(True)\n",
    "plt.show()"
   ]
  },
  {
   "cell_type": "code",
   "execution_count": 40,
   "id": "8337475f-fbe4-48bd-b683-8e52b2ee4ae2",
   "metadata": {},
   "outputs": [],
   "source": [
    "import pandas as pd\n",
    "company={\n",
    "    'experience':[2,4,6,8,10],\n",
    "    'salary':[4000,5000,6000,7000,8000]\n",
    "}"
   ]
  },
  {
   "cell_type": "code",
   "execution_count": 41,
   "id": "a099d5d7-13a5-4177-903f-f77e11bca9b8",
   "metadata": {},
   "outputs": [
    {
     "data": {
      "text/plain": [
       "{'experience': [2, 4, 6, 8, 10], 'salary': [4000, 5000, 6000, 7000, 8000]}"
      ]
     },
     "execution_count": 41,
     "metadata": {},
     "output_type": "execute_result"
    }
   ],
   "source": [
    "company"
   ]
  },
  {
   "cell_type": "code",
   "execution_count": 42,
   "id": "7cc2785b-34da-4c2a-9ae7-34369a7b372c",
   "metadata": {},
   "outputs": [
    {
     "name": "stdout",
     "output_type": "stream",
     "text": [
      "Dataset 'company_test.csv' has been created\n"
     ]
    }
   ],
   "source": [
    "df9 = pd.DataFrame(company)\n",
    "df9.to_csv('company_test.csv',index=False)\n",
    "print(\"Dataset 'company_test.csv' has been created\")"
   ]
  },
  {
   "cell_type": "code",
   "execution_count": 43,
   "id": "3fa4f820-52f4-45fb-b27d-c6288596ec3a",
   "metadata": {},
   "outputs": [
    {
     "data": {
      "image/png": "[encoded data removed]",
      "text/plain": [
       "<Figure size 700x400 with 1 Axes>"
      ]
     },
     "metadata": {},
     "output_type": "display_data"
    }
   ],
   "source": [
    "import pandas as pd\n",
    "import matplotlib.pyplot as plt\n",
    "company=pd.read_csv('company_test.csv')\n",
    "experience=company['experience']\n",
    "salary=company['salary']\n",
    "plt.figure(figsize=(7,4))\n",
    "plt.plot(experience,salary,marker='o',linestyle='-',color='blue',label='salary')\n",
    "plt.title('Company Details')\n",
    "plt.xlabel('salary')\n",
    "plt.ylabel('experience')\n",
    "plt.legend()\n",
    "plt.grid(True)\n",
    "plt.show()"
   ]
  },
  {
   "cell_type": "code",
   "execution_count": 53,
   "id": "20854a20-0f41-4277-8121-f7d9e3fd0309",
   "metadata": {},
   "outputs": [],
   "source": [
    "import pandas as pd\n",
    "product = {\n",
    "    'apple': [3,6,9,12],\n",
    "    'orange': [30, 60, 90, 70,]\n",
    "}"
   ]
  },
  {
   "cell_type": "code",
   "execution_count": 55,
   "id": "63729197-857e-4457-a978-f8c50b16add6",
   "metadata": {},
   "outputs": [
    {
     "data": {
      "text/plain": [
       "{'apple': [3, 6, 9, 12], 'orange': [30, 60, 90, 70]}"
      ]
     },
     "execution_count": 55,
     "metadata": {},
     "output_type": "execute_result"
    }
   ],
   "source": [
    "product"
   ]
  },
  {
   "cell_type": "code",
   "execution_count": 57,
   "id": "ef279515-7afd-47f5-aaa8-ab826d22fca9",
   "metadata": {},
   "outputs": [
    {
     "name": "stdout",
     "output_type": "stream",
     "text": [
      "Dataset 'product_test.csv' has been created.\n"
     ]
    }
   ],
   "source": [
    "df10=pd.DataFrame(product)\n",
    "df10.to_csv('product_test.csv',index=False)\n",
    "print(\"Dataset 'product_test.csv' has been created.\")"
   ]
  },
  {
   "cell_type": "code",
   "execution_count": 69,
   "id": "25fbb8ba-515e-4033-a63e-05a91402ce0b",
   "metadata": {},
   "outputs": [
    {
     "data": {
      "image/png": "[encoded data removed]",
      "text/plain": [
       "<Figure size 900x500 with 1 Axes>"
      ]
     },
     "metadata": {},
     "output_type": "display_data"
    }
   ],
   "source": [
    "import pandas as pd\n",
    "import matplotlib.pyplot as plt\n",
    "product=pd.read_csv('product_test.csv')\n",
    "apple=product['apple']\n",
    "orange=product['orange']\n",
    "plt.figure(figsize=(9,5))\n",
    "plt.plot(apple,orange,marker='o',linestyle='-',color='blue',label='apple')\n",
    "plt.title('FRUITS')\n",
    "plt.xlabel('apple')\n",
    "plt.ylabel('orange')\n",
    "plt.legend()\n",
    "plt.grid(True)\n",
    "plt.show()"
   ]
  },
  {
   "cell_type": "code",
   "execution_count": 4,
   "id": "7c6d5bea-0a61-4156-bd20-5c9f48e96592",
   "metadata": {},
   "outputs": [
    {
     "data": {
      "image/png": "[encoded data removed]",
      "text/plain": [
       "<Figure size 1000x1000 with 8 Axes>"
      ]
     },
     "metadata": {},
     "output_type": "display_data"
    }
   ],
   "source": [
    "import matplotlib.pyplot as plt\n",
    "import numpy as np\n",
    "fig,axs=plt.subplots(2,2,figsize=(10,10))\n",
    "for i in range(2):\n",
    "    for j in range(2):\n",
    "        img_data=np.random.rand(10,10)\n",
    "        img=axs[i, j].imshow(img_data,cmap='gray',interpolation='none')\n",
    "        axs[i,j].set_title(f'Grayscale Image({i},{j})')\n",
    "        axs[i,j].axis('off')\n",
    "        fig.colorbar(img, ax=axs[i,j],orientation='vertical')\n",
    "plt.tight_layout()'\n",
    "plt.savefig('image_subplots.png',dpi=300)\n",
    "plt.show()"
   ]
  },
  {
   "cell_type": "code",
   "execution_count": 8,
   "id": "697ec0d0-1ee7-4fa2-a49e-4f1dc0f58d6e",
   "metadata": {},
   "outputs": [
    {
     "data": {
      "image/png": "[encoded data removed]",
      "text/plain": [
       "<Figure size 1000x1000 with 8 Axes>"
      ]
     },
     "metadata": {},
     "output_type": "display_data"
    }
   ],
   "source": [
    "import matplotlib.pyplot as plt\n",
    "import numpy as np\n",
    "fig,axs=plt.subplots(2,2,figsize=(10,10))\n",
    "img_data_1=np.random.rand(10,10)\n",
    "img_data_2=np.random.rand(10,10)\n",
    "img_data_3=np.random.rand(10,10)\n",
    "img_data_4=np.random.rand(10,10)\n",
    "im1=axs[0,0].imshow(img_data_1,cmap='gray',interpolation='none')\n",
    "im2=axs[0,1].imshow(img_data_2,cmap='gray',interpolation='none')\n",
    "im3=axs[1,0].imshow(img_data_3,cmap='gray',interpolation='none')\n",
    "im4=axs[1,1].imshow(img_data_4,cmap='gray',interpolation='none')\n",
    "axs[0,0].set_title('Grayscale Image(0,0)')\n",
    "axs[0,1].set_title('Grayscale Image(0,1)')\n",
    "axs[1,0].set_title('Grayscale Image(1,0)')\n",
    "axs[1,1].set_title('Grayscale Image(1,1)')\n",
    "axs[0,0].axis('off')\n",
    "axs[0,1].axis('off')\n",
    "axs[1,0].axis('off')\n",
    "axs[1,1].axis('off')\n",
    "fig.colorbar(im1,ax=axs[0,0],orientation='vertical')\n",
    "fig.colorbar(im2,ax=axs[0,1],orientation='vertical')\n",
    "fig.colorbar(im3,ax=axs[1,0],orientation='vertical')\n",
    "fig.colorbar(im4,ax=axs[1,1],orientation='vertical')\n",
    "plt.tight_layout()\n",
    "plt.savefig('image_subplots.png',dpi=300)\n",
    "plt.show()\n"
   ]
  },
  {
   "cell_type": "code",
   "execution_count": null,
   "id": "fe4074a6-0fce-48b5-8c03-44696e59b2cc",
   "metadata": {},
   "outputs": [],
   "source": []
  }
 ],
 "metadata": {
  "kernelspec": {
   "display_name": "Python [conda env:base] *",
   "language": "python",
   "name": "conda-base-py"
  },
  "language_info": {
   "codemirror_mode": {
    "name": "ipython",
    "version": 3
   },
   "file_extension": ".py",
   "mimetype": "text/x-python",
   "name": "python",
   "nbconvert_exporter": "python",
   "pygments_lexer": "ipython3",
   "version": "3.12.7"
  }
 },
 "nbformat": 4,
 "nbformat_minor": 5
}
