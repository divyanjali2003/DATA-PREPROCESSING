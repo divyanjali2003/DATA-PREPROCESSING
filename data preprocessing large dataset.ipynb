{
 "cells": [
  {
   "cell_type": "code",
   "execution_count": 3,
   "id": "9e4e4e5a-f7fe-4bb8-9bdc-a9befc6cf09e",
   "metadata": {},
   "outputs": [],
   "source": [
    "import pandas as pd"
   ]
  },
  {
   "cell_type": "code",
   "execution_count": 5,
   "id": "98c291b0-437c-41ca-8f68-b1f280d97e2c",
   "metadata": {},
   "outputs": [
    {
     "data": {
      "text/html": [
       "<div>\n",
       "<style scoped>\n",
       "    .dataframe tbody tr th:only-of-type {\n",
       "        vertical-align: middle;\n",
       "    }\n",
       "\n",
       "    .dataframe tbody tr th {\n",
       "        vertical-align: top;\n",
       "    }\n",
       "\n",
       "    .dataframe thead th {\n",
       "        text-align: right;\n",
       "    }\n",
       "</style>\n",
       "<table border=\"1\" class=\"dataframe\">\n",
       "  <thead>\n",
       "    <tr style=\"text-align: right;\">\n",
       "      <th></th>\n",
       "      <th>ID</th>\n",
       "      <th>Name</th>\n",
       "      <th>Age</th>\n",
       "      <th>Gender</th>\n",
       "      <th>Income</th>\n",
       "      <th>City</th>\n",
       "    </tr>\n",
       "  </thead>\n",
       "  <tbody>\n",
       "    <tr>\n",
       "      <th>0</th>\n",
       "      <td>1</td>\n",
       "      <td>Person_1</td>\n",
       "      <td>56.0</td>\n",
       "      <td>Male</td>\n",
       "      <td>59241.0</td>\n",
       "      <td>New York</td>\n",
       "    </tr>\n",
       "    <tr>\n",
       "      <th>1</th>\n",
       "      <td>2</td>\n",
       "      <td>Person_2</td>\n",
       "      <td>46.0</td>\n",
       "      <td>Female</td>\n",
       "      <td>126214.0</td>\n",
       "      <td>Houston</td>\n",
       "    </tr>\n",
       "    <tr>\n",
       "      <th>2</th>\n",
       "      <td>3</td>\n",
       "      <td>Person_3</td>\n",
       "      <td>32.0</td>\n",
       "      <td>Female</td>\n",
       "      <td>74569.0</td>\n",
       "      <td>Chicago</td>\n",
       "    </tr>\n",
       "    <tr>\n",
       "      <th>3</th>\n",
       "      <td>4</td>\n",
       "      <td>Person_4</td>\n",
       "      <td>NaN</td>\n",
       "      <td>Female</td>\n",
       "      <td>41745.0</td>\n",
       "      <td>Phoenix</td>\n",
       "    </tr>\n",
       "    <tr>\n",
       "      <th>4</th>\n",
       "      <td>5</td>\n",
       "      <td>Person_5</td>\n",
       "      <td>25.0</td>\n",
       "      <td>Male</td>\n",
       "      <td>NaN</td>\n",
       "      <td>Houston</td>\n",
       "    </tr>\n",
       "  </tbody>\n",
       "</table>\n",
       "</div>"
      ],
      "text/plain": [
       "   ID      Name   Age  Gender    Income      City\n",
       "0   1  Person_1  56.0    Male   59241.0  New York\n",
       "1   2  Person_2  46.0  Female  126214.0   Houston\n",
       "2   3  Person_3  32.0  Female   74569.0   Chicago\n",
       "3   4  Person_4   NaN  Female   41745.0   Phoenix\n",
       "4   5  Person_5  25.0    Male       NaN   Houston"
      ]
     },
     "execution_count": 5,
     "metadata": {},
     "output_type": "execute_result"
    }
   ],
   "source": [
    "df=pd.read_csv(\"large_sample_data.csv\")\n",
    "df.head()"
   ]
  },
  {
   "cell_type": "code",
   "execution_count": 7,
   "id": "38543dee-0f3c-4faf-848f-0dcd0424be9e",
   "metadata": {},
   "outputs": [
    {
     "data": {
      "text/plain": [
       "(1000, 6)"
      ]
     },
     "execution_count": 7,
     "metadata": {},
     "output_type": "execute_result"
    }
   ],
   "source": [
    "df.shape"
   ]
  },
  {
   "cell_type": "code",
   "execution_count": 9,
   "id": "67f02bb3-4045-4de0-962b-f8a6b3bc80e3",
   "metadata": {},
   "outputs": [
    {
     "data": {
      "text/plain": [
       "ID          0\n",
       "Name        0\n",
       "Age        94\n",
       "Gender      0\n",
       "Income    103\n",
       "City      102\n",
       "dtype: int64"
      ]
     },
     "execution_count": 9,
     "metadata": {},
     "output_type": "execute_result"
    }
   ],
   "source": [
    "df.isnull().sum()"
   ]
  },
  {
   "cell_type": "code",
   "execution_count": 11,
   "id": "51d59966-783f-45d3-9bf7-2d45cf86e16e",
   "metadata": {},
   "outputs": [
    {
     "name": "stderr",
     "output_type": "stream",
     "text": [
      "C:\\Users\\Diyanjali\\AppData\\Local\\Temp\\ipykernel_147868\\1698716155.py:1: FutureWarning: A value is trying to be set on a copy of a DataFrame or Series through chained assignment using an inplace method.\n",
      "The behavior will change in pandas 3.0. This inplace method will never work because the intermediate object on which we are setting values always behaves as a copy.\n",
      "\n",
      "For example, when doing 'df[col].method(value, inplace=True)', try using 'df.method({col: value}, inplace=True)' or df[col] = df[col].method(value) instead, to perform the operation inplace on the original object.\n",
      "\n",
      "\n",
      "  df['Age'].fillna(df['Age'].mean(), inplace=True)\n"
     ]
    }
   ],
   "source": [
    "df['Age'].fillna(df['Age'].mean(), inplace=True)"
   ]
  },
  {
   "cell_type": "code",
   "execution_count": 13,
   "id": "776e34cd-c79d-4be2-8fd4-880e4d508145",
   "metadata": {},
   "outputs": [
    {
     "data": {
      "text/plain": [
       "ID          0\n",
       "Name        0\n",
       "Age         0\n",
       "Gender      0\n",
       "Income    103\n",
       "City      102\n",
       "dtype: int64"
      ]
     },
     "execution_count": 13,
     "metadata": {},
     "output_type": "execute_result"
    }
   ],
   "source": [
    "df.isnull().sum()"
   ]
  },
  {
   "cell_type": "code",
   "execution_count": 15,
   "id": "b1e00f6b-7127-4160-84bc-6358e1900437",
   "metadata": {},
   "outputs": [
    {
     "name": "stderr",
     "output_type": "stream",
     "text": [
      "C:\\Users\\Diyanjali\\AppData\\Local\\Temp\\ipykernel_147868\\1959487941.py:1: FutureWarning: A value is trying to be set on a copy of a DataFrame or Series through chained assignment using an inplace method.\n",
      "The behavior will change in pandas 3.0. This inplace method will never work because the intermediate object on which we are setting values always behaves as a copy.\n",
      "\n",
      "For example, when doing 'df[col].method(value, inplace=True)', try using 'df.method({col: value}, inplace=True)' or df[col] = df[col].method(value) instead, to perform the operation inplace on the original object.\n",
      "\n",
      "\n",
      "  df['Income'].fillna(df['Income'].median(), inplace=True)\n"
     ]
    }
   ],
   "source": [
    "df['Income'].fillna(df['Income'].median(), inplace=True)"
   ]
  },
  {
   "cell_type": "code",
   "execution_count": 17,
   "id": "a6a67c0e-f80f-4022-aa9f-cfee3b9f4b27",
   "metadata": {},
   "outputs": [
    {
     "data": {
      "text/plain": [
       "ID          0\n",
       "Name        0\n",
       "Age         0\n",
       "Gender      0\n",
       "Income      0\n",
       "City      102\n",
       "dtype: int64"
      ]
     },
     "execution_count": 17,
     "metadata": {},
     "output_type": "execute_result"
    }
   ],
   "source": [
    "df.isnull().sum()"
   ]
  },
  {
   "cell_type": "code",
   "execution_count": 19,
   "id": "23e52cb8-e99a-40b9-b5f0-051db49020d4",
   "metadata": {},
   "outputs": [
    {
     "name": "stderr",
     "output_type": "stream",
     "text": [
      "C:\\Users\\Diyanjali\\AppData\\Local\\Temp\\ipykernel_147868\\1488218936.py:1: FutureWarning: A value is trying to be set on a copy of a DataFrame or Series through chained assignment using an inplace method.\n",
      "The behavior will change in pandas 3.0. This inplace method will never work because the intermediate object on which we are setting values always behaves as a copy.\n",
      "\n",
      "For example, when doing 'df[col].method(value, inplace=True)', try using 'df.method({col: value}, inplace=True)' or df[col] = df[col].method(value) instead, to perform the operation inplace on the original object.\n",
      "\n",
      "\n",
      "  df['City'].fillna(df['City'].mode()[0], inplace=True)\n"
     ]
    }
   ],
   "source": [
    "df['City'].fillna(df['City'].mode()[0], inplace=True)"
   ]
  },
  {
   "cell_type": "code",
   "execution_count": 21,
   "id": "95b58017-03ca-405d-9c84-c73541d4cab7",
   "metadata": {},
   "outputs": [
    {
     "data": {
      "text/plain": [
       "ID        0\n",
       "Name      0\n",
       "Age       0\n",
       "Gender    0\n",
       "Income    0\n",
       "City      0\n",
       "dtype: int64"
      ]
     },
     "execution_count": 21,
     "metadata": {},
     "output_type": "execute_result"
    }
   ],
   "source": [
    "df.isnull().sum()"
   ]
  },
  {
   "cell_type": "code",
   "execution_count": 23,
   "id": "c88eadaf-84ab-4a7d-beb9-a631fdf66576",
   "metadata": {},
   "outputs": [
    {
     "name": "stdout",
     "output_type": "stream",
     "text": [
      "       ID         Name        Age  Gender    Income         City\n",
      "0       1     Person_1  56.000000       1   59241.0     New York\n",
      "1       2     Person_2  46.000000       0  126214.0      Houston\n",
      "2       3     Person_3  32.000000       0   74569.0      Chicago\n",
      "3       4     Person_4  41.083885       0   41745.0      Phoenix\n",
      "4       5     Person_5  25.000000       1   90576.0      Houston\n",
      "..    ...          ...        ...     ...       ...          ...\n",
      "995   996   Person_996  41.083885       1   83420.0  Los Angeles\n",
      "996   997   Person_997  40.000000       1   30671.0      Houston\n",
      "997   998   Person_998  27.000000       0   30163.0      Chicago\n",
      "998   999   Person_999  61.000000       1   71424.0      Chicago\n",
      "999  1000  Person_1000  19.000000       1  139538.0      Chicago\n",
      "\n",
      "[1000 rows x 6 columns]\n"
     ]
    }
   ],
   "source": [
    "from sklearn.preprocessing import LabelEncoder\n",
    "\n",
    "encoder = LabelEncoder()\n",
    "df['Gender'] = encoder.fit_transform(df['Gender'])\n",
    "print(df)"
   ]
  },
  {
   "cell_type": "code",
   "execution_count": 25,
   "id": "6c7e43f6-06e8-45ed-9de4-8988655fb358",
   "metadata": {},
   "outputs": [
    {
     "name": "stdout",
     "output_type": "stream",
     "text": [
      "       ID         Name        Age  Gender    Income  City\n",
      "0       1     Person_1  56.000000       1   59241.0     3\n",
      "1       2     Person_2  46.000000       0  126214.0     1\n",
      "2       3     Person_3  32.000000       0   74569.0     0\n",
      "3       4     Person_4  41.083885       0   41745.0     4\n",
      "4       5     Person_5  25.000000       1   90576.0     1\n",
      "..    ...          ...        ...     ...       ...   ...\n",
      "995   996   Person_996  41.083885       1   83420.0     2\n",
      "996   997   Person_997  40.000000       1   30671.0     1\n",
      "997   998   Person_998  27.000000       0   30163.0     0\n",
      "998   999   Person_999  61.000000       1   71424.0     0\n",
      "999  1000  Person_1000  19.000000       1  139538.0     0\n",
      "\n",
      "[1000 rows x 6 columns]\n"
     ]
    }
   ],
   "source": [
    "encoder = LabelEncoder()\n",
    "df['City'] = encoder.fit_transform(df['City'])\n",
    "print(df)"
   ]
  },
  {
   "cell_type": "code",
   "execution_count": 27,
   "id": "7e18aa22-93b6-4be3-a3c0-e162fcde18cf",
   "metadata": {},
   "outputs": [],
   "source": [
    "from sklearn.preprocessing import StandardScaler\n",
    "\n",
    "scaler=StandardScaler()\n",
    "x=df[[\"ID\",\"Age\",\"Gender\",\"Income\",\"City\"]]\n",
    "x_scaled=scaler.fit_transform(x)"
   ]
  },
  {
   "cell_type": "code",
   "execution_count": 29,
   "id": "830fad02-ec1b-4543-8ef9-982f09cc7dd2",
   "metadata": {},
   "outputs": [
    {
     "data": {
      "text/plain": [
       "array([[-1.73031962,  1.1595269 ,  0.9492843 , -0.95145783,  0.8203639 ],\n",
       "       [-1.72685552,  0.38216167, -1.05342519,  1.08009236, -0.52449495],\n",
       "       [-1.72339142, -0.70614965, -1.05342519, -0.48650029, -1.19692438],\n",
       "       ...,\n",
       "       [ 1.72339142, -1.09483227, -1.05342519, -1.83350606, -1.19692438],\n",
       "       [ 1.72685552,  1.54820952,  0.9492843 , -0.5819003 , -1.19692438],\n",
       "       [ 1.73031962, -1.71672445,  0.9492843 ,  1.48426082, -1.19692438]])"
      ]
     },
     "execution_count": 29,
     "metadata": {},
     "output_type": "execute_result"
    }
   ],
   "source": [
    "x_scaled"
   ]
  },
  {
   "cell_type": "code",
   "execution_count": 31,
   "id": "ce09a2d8-7593-408d-8a6f-1ef13181aab6",
   "metadata": {},
   "outputs": [],
   "source": [
    " from sklearn.preprocessing import MinMaxScaler\n",
    "\n",
    " scaler=MinMaxScaler()\n",
    " x=df[[\"ID\",\"Age\",\"Gender\",\"Income\",\"City\"]]\n",
    " x_scaled=scaler.fit_transform(x)"
   ]
  },
  {
   "cell_type": "code",
   "execution_count": 33,
   "id": "8c519582-870b-4612-b9ed-c200f50ddc5a",
   "metadata": {},
   "outputs": [
    {
     "data": {
      "text/plain": [
       "array([[0.        , 0.82608696, 1.        , 0.24268879, 0.75      ],\n",
       "       [0.001001  , 0.60869565, 0.        , 0.8016542 , 0.25      ],\n",
       "       [0.002002  , 0.30434783, 0.        , 0.37061828, 0.        ],\n",
       "       ...,\n",
       "       [0.997998  , 0.19565217, 0.        , 0.        , 0.        ],\n",
       "       [0.998999  , 0.93478261, 1.        , 0.3443697 , 0.        ],\n",
       "       [1.        , 0.02173913, 1.        , 0.91285805, 0.        ]])"
      ]
     },
     "execution_count": 33,
     "metadata": {},
     "output_type": "execute_result"
    }
   ],
   "source": [
    "x_scaled"
   ]
  },
  {
   "cell_type": "code",
   "execution_count": null,
   "id": "7e5a150b-b22d-4ebe-8024-d9bd334ab709",
   "metadata": {},
   "outputs": [],
   "source": []
  }
 ],
 "metadata": {
  "kernelspec": {
   "display_name": "Python [conda env:base] *",
   "language": "python",
   "name": "conda-base-py"
  },
  "language_info": {
   "codemirror_mode": {
    "name": "ipython",
    "version": 3
   },
   "file_extension": ".py",
   "mimetype": "text/x-python",
   "name": "python",
   "nbconvert_exporter": "python",
   "pygments_lexer": "ipython3",
   "version": "3.12.7"
  }
 },
 "nbformat": 4,
 "nbformat_minor": 5
}
