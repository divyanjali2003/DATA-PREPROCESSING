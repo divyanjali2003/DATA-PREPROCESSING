{
 "cells": [
  {
   "cell_type": "code",
   "execution_count": 9,
   "id": "91d8bb62-9d12-43ce-8e1a-558b39335c4f",
   "metadata": {},
   "outputs": [
    {
     "name": "stdout",
     "output_type": "stream",
     "text": [
      "category    A    B\n",
      "Date              \n",
      "2023-01   100  200\n",
      "2023-02   150  250\n"
     ]
    }
   ],
   "source": [
    "import pandas as pd\n",
    "data={\n",
    "    'Data':['2023-01','2023-01','2023-02','2023-02'],\n",
    "    'category':['A', 'B', 'A','B'],\n",
    "    'sales':[100,200,150,250]\n",
    "}\n",
    "df=pd.DataFrame(data)\n",
    "df.rename(columns={'Data': 'Date'}, inplace=True)\n",
    "pivot_table = df.pivot(index='Date', columns='category', values='sales')\n",
    "print(pivot_table)"
   ]
  },
  {
   "cell_type": "code",
   "execution_count": 26,
   "id": "40c435ab-a87c-4694-bf0c-91d03938079f",
   "metadata": {},
   "outputs": [
    {
     "name": "stdout",
     "output_type": "stream",
     "text": [
      "age group  adult  child  All\n",
      "gender                      \n",
      "female         3      2    5\n",
      "male           9      1   10\n",
      "All           12      3   15\n"
     ]
    }
   ],
   "source": [
    "import pandas as pd\n",
    "data={\n",
    "    'gender':['male','female','female','male','male'],\n",
    "    'age group':['adult','adult','child','child','adult'],\n",
    "    'count':[5,3,2,1,4]}\n",
    "df=pd.DataFrame(data)\n",
    "crosstab_table = pd.crosstab(\n",
    "    df['gender'],\n",
    "    df['age group'],\n",
    "    values=df['count'],\n",
    "    aggfunc='sum',\n",
    "    margins=True\n",
    ")\n",
    "print(crosstab_table)"
   ]
  },
  {
   "cell_type": "code",
   "execution_count": null,
   "id": "403a2dc9-2755-403d-8977-038dc73865b0",
   "metadata": {},
   "outputs": [],
   "source": []
  }
 ],
 "metadata": {
  "kernelspec": {
   "display_name": "Python [conda env:base] *",
   "language": "python",
   "name": "conda-base-py"
  },
  "language_info": {
   "codemirror_mode": {
    "name": "ipython",
    "version": 3
   },
   "file_extension": ".py",
   "mimetype": "text/x-python",
   "name": "python",
   "nbconvert_exporter": "python",
   "pygments_lexer": "ipython3",
   "version": "3.12.7"
  }
 },
 "nbformat": 4,
 "nbformat_minor": 5
}
